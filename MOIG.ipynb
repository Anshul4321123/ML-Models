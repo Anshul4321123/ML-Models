{
  "nbformat": 4,
  "nbformat_minor": 0,
  "metadata": {
    "colab": {
      "provenance": [],
      "authorship_tag": "ABX9TyNrzuaY26qmEA92DWrOcK2H",
      "include_colab_link": true
    },
    "kernelspec": {
      "name": "python3",
      "display_name": "Python 3"
    },
    "language_info": {
      "name": "python"
    }
  },
  "cells": [
    {
      "cell_type": "markdown",
      "metadata": {
        "id": "view-in-github",
        "colab_type": "text"
      },
      "source": [
        "<a href=\"https://colab.research.google.com/github/Anshul4321123/ML-Models/blob/main/MOIG.ipynb\" target=\"_parent\"><img src=\"https://colab.research.google.com/assets/colab-badge.svg\" alt=\"Open In Colab\"/></a>"
      ]
    },
    {
      "cell_type": "code",
      "execution_count": 76,
      "metadata": {
        "id": "P-BNrtK6EvuY"
      },
      "outputs": [],
      "source": [
        "import pandas as pd"
      ]
    },
    {
      "cell_type": "code",
      "source": [
        "alert_df = pd.read_csv(\"MOIG_Alert.csv\")\n",
        "breach_df = pd.read_csv(\"MOIG_Threshold_Breach.csv\")\n",
        "threshold_df = pd.read_csv(\"MOIG_Analytics_threshold.csv\")\n"
      ],
      "metadata": {
        "id": "GzhqjaPQE4O8"
      },
      "execution_count": 77,
      "outputs": []
    },
    {
      "cell_type": "code",
      "source": [
        "breach_with_threshold = pd.merge(\n",
        "    breach_df,\n",
        "    threshold_df[[\"THRESHOLD_ID\", \"THRESHOLD_VALUE\", \"MAX_VALUE\"]],\n",
        "    on=\"THRESHOLD_ID\",\n",
        "    how=\"left\"\n",
        ")"
      ],
      "metadata": {
        "id": "WbmW9M3CE7Vx"
      },
      "execution_count": 78,
      "outputs": []
    },
    {
      "cell_type": "code",
      "source": [
        "breach_with_threshold[\"SEVERITY_SCORE\"] = (\n",
        "    ((breach_with_threshold[\"BREACH_VALUE\"] - breach_with_threshold[\"THRESHOLD_VALUE\"])) /\n",
        "    ((breach_with_threshold[\"MAX_VALUE\"] - breach_with_threshold[\"THRESHOLD_VALUE\"]))\n",
        ")\n"
      ],
      "metadata": {
        "id": "ht8852cYFA9c"
      },
      "execution_count": 79,
      "outputs": []
    },
    {
      "cell_type": "code",
      "source": [
        "severity_per_alert = breach_with_threshold.groupby(\"ALERT_ID\")[\"SEVERITY_SCORE\"].max().reset_index()\n"
      ],
      "metadata": {
        "id": "vlQwxbiIFCDq"
      },
      "execution_count": 80,
      "outputs": []
    },
    {
      "cell_type": "code",
      "source": [
        "final_alerts = pd.merge(alert_df, severity_per_alert, on=\"ALERT_ID\", how=\"left\")"
      ],
      "metadata": {
        "id": "DFAl1gLzFE-D"
      },
      "execution_count": 81,
      "outputs": []
    },
    {
      "cell_type": "code",
      "source": [
        "final_alerts.to_csv(\"MOIG_Alerts_with_Severity.csv\", index=False)"
      ],
      "metadata": {
        "id": "gwBThmWVFNGY"
      },
      "execution_count": 82,
      "outputs": []
    },
    {
      "cell_type": "code",
      "source": [
        "print(final_alerts[[\"ALERT_ID\", \"ALERT_SCORE\", \"ALERT_SEVERITY\", \"SEVERITY_SCORE\"]])"
      ],
      "metadata": {
        "colab": {
          "base_uri": "https://localhost:8080/"
        },
        "id": "I-8bgloJFOdV",
        "outputId": "b98a1df7-836f-4b3d-b99f-cdbe4fa5fbfe"
      },
      "execution_count": 83,
      "outputs": [
        {
          "output_type": "stream",
          "name": "stdout",
          "text": [
            "     ALERT_ID  ALERT_SCORE ALERT_SEVERITY  SEVERITY_SCORE\n",
            "0   MOIG_5351          0.9           High        708543.0\n",
            "1   MOIG_5352          0.9           High        708543.0\n",
            "2   MOIG_5353          0.9           High        708543.0\n",
            "3   MOIG_5354          0.9           High        708543.0\n",
            "4   MOIG_5355          0.9           High        147611.0\n",
            "5   MOIG_5351          0.9           High        708543.0\n",
            "6   MOIG_5351          0.9           High        708543.0\n",
            "7   MOIG_5352          0.9           High        708543.0\n",
            "8   MOIG_5351          0.9           High        708543.0\n",
            "9   MOIG_5352          0.9           High        708543.0\n",
            "10  MOIG_5353          0.9           High        708543.0\n",
            "11  MOIG_5351          0.9           High        708543.0\n",
            "12  MOIG_5352          0.9           High        708543.0\n",
            "13  MOIG_5353          0.9           High        708543.0\n",
            "14  MOIG_5354          0.9           High        708543.0\n",
            "15  MOIG_5355          0.9           High        147611.0\n"
          ]
        }
      ]
    },
    {
      "cell_type": "code",
      "source": [
        "import pandas as pd\n",
        "\n",
        "alert_df = pd.read_csv(\"MOIG_Alert.csv\")\n",
        "breach_df = pd.read_csv(\"MOIG_Threshold_Breach.csv\")\n",
        "threshold_df = pd.read_csv(\"MOIG_Analytics_threshold.csv\")\n",
        "\n",
        "merged = pd.merge(\n",
        "    breach_df,\n",
        "    threshold_df[[\"THRESHOLD_ID\", \"THRESHOLD_VALUE\", \"MAX_VALUE\"]],\n",
        "    on=\"THRESHOLD_ID\",\n",
        "    how=\"left\"\n",
        ")\n",
        "\n",
        "merged[\"RAW_SEVERITY\"] = (\n",
        "    (merged[\"BREACH_VALUE\"] - merged[\"THRESHOLD_VALUE\"]) /\n",
        "    (merged[\"MAX_VALUE\"] - merged[\"THRESHOLD_VALUE\"])\n",
        ")\n",
        "\n",
        "merged = merged.replace([float('inf'), -float('inf')], float('nan')).dropna(subset=[\"RAW_SEVERITY\"])\n",
        "\n",
        "min_val = merged[\"RAW_SEVERITY\"].min()\n",
        "max_val = merged[\"RAW_SEVERITY\"].max()\n",
        "\n",
        "if max_val > min_val:\n",
        "    merged[\"SEVERITY_SCORE\"] = (merged[\"RAW_SEVERITY\"] - min_val) / (max_val - min_val)\n",
        "else:\n",
        "    merged[\"SEVERITY_SCORE\"] = 0.0  # fallback if all values are the same\n",
        "\n",
        "severity_scores = merged.groupby(\"ALERT_ID\")[\"SEVERITY_SCORE\"].max().reset_index()\n",
        "\n",
        "final_alerts = pd.merge(alert_df, severity_scores, on=\"ALERT_ID\", how=\"left\")\n",
        "final_alerts[\"SEVERITY_SCORE\"] = final_alerts[\"SEVERITY_SCORE\"].fillna(0)\n",
        "\n",
        "final_alerts.to_csv(\"MOIG_Alerts_with_Normalized_Severity.csv\", index=False)\n",
        "print(final_alerts[[\"ALERT_ID\", \"ALERT_SCORE\", \"ALERT_SEVERITY\", \"SEVERITY_SCORE\"]])"
      ],
      "metadata": {
        "colab": {
          "base_uri": "https://localhost:8080/"
        },
        "id": "6mdKdfVoHf1S",
        "outputId": "442e8a66-61d1-479d-8082-841ce8e40832"
      },
      "execution_count": 84,
      "outputs": [
        {
          "output_type": "stream",
          "name": "stdout",
          "text": [
            "     ALERT_ID  ALERT_SCORE ALERT_SEVERITY  SEVERITY_SCORE\n",
            "0   MOIG_5351          0.9           High        1.000000\n",
            "1   MOIG_5352          0.9           High        1.000000\n",
            "2   MOIG_5353          0.9           High        1.000000\n",
            "3   MOIG_5354          0.9           High        1.000000\n",
            "4   MOIG_5355          0.9           High        0.208332\n",
            "5   MOIG_5351          0.9           High        1.000000\n",
            "6   MOIG_5351          0.9           High        1.000000\n",
            "7   MOIG_5352          0.9           High        1.000000\n",
            "8   MOIG_5351          0.9           High        1.000000\n",
            "9   MOIG_5352          0.9           High        1.000000\n",
            "10  MOIG_5353          0.9           High        1.000000\n",
            "11  MOIG_5351          0.9           High        1.000000\n",
            "12  MOIG_5352          0.9           High        1.000000\n",
            "13  MOIG_5353          0.9           High        1.000000\n",
            "14  MOIG_5354          0.9           High        1.000000\n",
            "15  MOIG_5355          0.9           High        0.208332\n"
          ]
        }
      ]
    },
    {
      "cell_type": "code",
      "source": [
        "import pandas as pd\n",
        "\n",
        "analytics_df = pd.read_csv(\"MOIG_Analytics_threshold.csv\")\n",
        "breach_df = pd.read_csv(\"MOIG_Threshold_Breach.csv\")\n",
        "\n",
        "keywords = ['ignition', 'momentum']\n",
        "filtered_thresholds = analytics_df[\n",
        "    analytics_df['THRESHOLD_NAME'].str.lower().str.contains('|'.join(keywords)) |\n",
        "    analytics_df['THRESHOLD_DESCRIPTION'].str.lower().str.contains('|'.join(keywords))\n",
        "]\n",
        "\n",
        "merged_df = pd.merge(\n",
        "    breach_df,\n",
        "    filtered_thresholds[['THRESHOLD_ID', 'THRESHOLD_NAME', 'THRESHOLD_DESCRIPTION', 'THRESHOLD_VALUE', 'MAX_VALUE']],\n",
        "    on='THRESHOLD_ID',\n",
        "    how='inner'\n",
        ")\n",
        "\n",
        "def calculate_severity(row):\n",
        "    try:\n",
        "        breach = row['BREACH_VALUE']\n",
        "        threshold = row['THRESHOLD_VALUE']\n",
        "        max_val = row['MAX_VALUE']\n",
        "        if pd.isna(threshold) or pd.isna(max_val) or max_val == threshold:\n",
        "            return 0.0\n",
        "        return min(1.0, max(0.0, (breach - threshold) / (max_val - threshold)))\n",
        "    except:\n",
        "        return 0.0\n",
        "\n",
        "merged_df['SEVERITY_SCORE'] = merged_df.apply(calculate_severity, axis=1)\n",
        "\n",
        "merged_df = merged_df.sort_values(by='SEVERITY_SCORE')\n",
        "\n",
        "merged_df.to_csv(\"Ignition_Breaches_With_Severity.csv\", index=False)\n",
        "print(merged_df[[\"ALERT_ID\", \"SEVERITY_SCORE\"]].head())\n"
      ],
      "metadata": {
        "colab": {
          "base_uri": "https://localhost:8080/"
        },
        "id": "IdtZcJ0kJTEk",
        "outputId": "2674f31d-e9d3-43ac-952e-b6533a669622"
      },
      "execution_count": 85,
      "outputs": [
        {
          "output_type": "stream",
          "name": "stdout",
          "text": [
            "     ALERT_ID  SEVERITY_SCORE\n",
            "63  MOIG_5355             0.0\n",
            "62  MOIG_5354             0.0\n",
            "61  MOIG_5355             0.0\n",
            "60  MOIG_5353             0.0\n",
            "59  MOIG_5354             0.0\n"
          ]
        }
      ]
    },
    {
      "cell_type": "code",
      "source": [
        "import pandas as pd\n",
        "\n",
        "alert_df = pd.read_csv(\"MOIG_Alert.csv\")\n",
        "breach_df = pd.read_csv(\"MOIG_Threshold_Breach.csv\")\n",
        "threshold_df = pd.read_csv(\"MOIG_Analytics_threshold.csv\")\n",
        "\n",
        "breach_with_txn = pd.merge(\n",
        "    breach_df,\n",
        "    alert_df[[\"ALERT_ID\", \"TRIGGERING_TRANSACTION_INTERNAL_ID\"]],\n",
        "    on=\"ALERT_ID\",\n",
        "    how=\"left\"\n",
        ")\n",
        "\n",
        "merged_all = pd.merge(\n",
        "    breach_with_txn,\n",
        "    threshold_df[[\"THRESHOLD_ID\", \"THRESHOLD_VALUE\", \"MAX_VALUE\"]],\n",
        "    on=\"THRESHOLD_ID\",\n",
        "    how=\"left\"\n",
        ")\n",
        "\n",
        "merged_all[\"NORMALIZED_BREACH\"] = (\n",
        "    (merged_all[\"BREACH_VALUE\"] - merged_all[\"THRESHOLD_VALUE\"]) /\n",
        "    (merged_all[\"MAX_VALUE\"] - merged_all[\"THRESHOLD_VALUE\"])\n",
        ")\n",
        "\n",
        "merged_all = merged_all.replace([float('inf'), -float('inf')], float('nan')).dropna(subset=[\"NORMALIZED_BREACH\"])\n",
        "merged_all = merged_all[merged_all[\"MAX_VALUE\"] > merged_all[\"THRESHOLD_VALUE\"]]\n",
        "\n",
        "positive_only = merged_all[merged_all[\"NORMALIZED_BREACH\"] > 0]\n",
        "max_magnitude = positive_only[\"NORMALIZED_BREACH\"].quantile(0.99)\n",
        "\n",
        "merged_all[\"MAPPED_SCORE\"] = merged_all[\"NORMALIZED_BREACH\"].clip(lower=0, upper=max_magnitude)\n",
        "merged_all[\"MAPPED_SCORE\"] = merged_all[\"MAPPED_SCORE\"] / max_magnitude\n",
        "merged_all.loc[merged_all[\"NORMALIZED_BREACH\"] < 0, \"MAPPED_SCORE\"] = 0\n",
        "\n",
        "trader_scores = merged_all.groupby(\"TRIGGERING_TRANSACTION_INTERNAL_ID\")[\"MAPPED_SCORE\"].mean().reset_index()\n",
        "trader_scores = trader_scores.rename(columns={\"MAPPED_SCORE\": \"TRADER_SEVERITY_SCORE\"})\n",
        "\n",
        "print(trader_scores.sort_values(\"TRADER_SEVERITY_SCORE\", ascending=False).head(10))\n",
        "trader_scores.to_csv(\"Trader_Severity_Scores.csv\", index=False)\n"
      ],
      "metadata": {
        "colab": {
          "base_uri": "https://localhost:8080/"
        },
        "id": "q9HoZ3GQfx1D",
        "outputId": "32e986a9-beed-4ac1-96ba-6d329a586734"
      },
      "execution_count": 86,
      "outputs": [
        {
          "output_type": "stream",
          "name": "stdout",
          "text": [
            "   TRIGGERING_TRANSACTION_INTERNAL_ID  TRADER_SEVERITY_SCORE\n",
            "3                 trx_2025-05-07_2497               0.078671\n",
            "14               trx_2025-05-07_94699               0.078671\n",
            "7                trx_2025-05-07_67057               0.076075\n",
            "1                 trx_2025-05-07_2439               0.076075\n",
            "9                trx_2025-05-07_82867               0.076075\n",
            "12               trx_2025-05-07_94651               0.076075\n",
            "10               trx_2025-05-07_82879               0.062585\n",
            "2                 trx_2025-05-07_2462               0.062585\n",
            "13               trx_2025-05-07_94692               0.062585\n",
            "6                trx_2025-05-07_63446               0.054788\n"
          ]
        }
      ]
    },
    {
      "cell_type": "code",
      "source": [
        "import pandas as pd\n",
        "\n",
        "threshold_df = pd.read_csv(\"MOIG_Analytics_threshold.csv\")\n",
        "breach_df = pd.read_csv(\"MOIG_Threshold_Breach.csv\")\n",
        "\n",
        "merged = pd.merge(\n",
        "    breach_df,\n",
        "    threshold_df[[\"THRESHOLD_ID\", \"THRESHOLD_VALUE\", \"MAX_VALUE\"]],\n",
        "    on=\"THRESHOLD_ID\",\n",
        "    how=\"left\"\n",
        ")\n",
        "\n",
        "merged[\"NORMALIZED_BREACH\"] = (\n",
        "    (merged[\"BREACH_VALUE\"] - merged[\"THRESHOLD_VALUE\"]) /\n",
        "    (merged[\"MAX_VALUE\"] - merged[\"THRESHOLD_VALUE\"])\n",
        ")\n",
        "\n",
        "merged = merged.replace([float('inf'), -float('inf')], float('nan'))\n",
        "merged = merged.dropna(subset=[\"NORMALIZED_BREACH\"])\n",
        "merged = merged[merged[\"MAX_VALUE\"] > merged[\"THRESHOLD_VALUE\"]]\n",
        "\n",
        "positive_only = merged[merged[\"NORMALIZED_BREACH\"] > 0]\n",
        "max_magnitude = positive_only[\"NORMALIZED_BREACH\"].quantile(0.99)\n",
        "\n",
        "merged[\"MAPPED_SCORE\"] = merged[\"NORMALIZED_BREACH\"].clip(lower=0, upper=max_magnitude)\n",
        "merged[\"MAPPED_SCORE\"] = merged[\"MAPPED_SCORE\"] / max_magnitude\n",
        "merged.loc[merged[\"NORMALIZED_BREACH\"] < 0, \"MAPPED_SCORE\"] = 0  # Handle negatives\n",
        "\n",
        "alert_severity = merged.groupby(\"ALERT_ID\")[\"MAPPED_SCORE\"].mean().reset_index()\n",
        "alert_severity = alert_severity.rename(columns={\"MAPPED_SCORE\": \"ALERT_SEVERITY_SCORE\"})\n",
        "\n",
        "alert_severity.to_csv(\"Alert_Severity_Scores.csv\", index=False)\n",
        "\n",
        "print(alert_severity.sort_values(\"ALERT_SEVERITY_SCORE\", ascending=False).head(10))\n"
      ],
      "metadata": {
        "colab": {
          "base_uri": "https://localhost:8080/"
        },
        "id": "ljc6MASYhMKM",
        "outputId": "f3c7b075-f119-4a2c-8d9c-c0094307864e"
      },
      "execution_count": 87,
      "outputs": [
        {
          "output_type": "stream",
          "name": "stdout",
          "text": [
            "    ALERT_ID  ALERT_SEVERITY_SCORE\n",
            "3  MOIG_5354              0.078671\n",
            "1  MOIG_5352              0.076075\n",
            "2  MOIG_5353              0.062585\n",
            "0  MOIG_5351              0.054788\n",
            "4  MOIG_5355              0.022122\n"
          ]
        }
      ]
    }
  ]
}